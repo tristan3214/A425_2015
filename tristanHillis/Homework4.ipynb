{
 "cells": [
  {
   "cell_type": "markdown",
   "metadata": {},
   "source": [
    "Tristan J. Hillis <br/>\n",
    "ID: 1260315 <br/>\n",
    "Astro 425 | Homework # 4"
   ]
  },
  {
   "cell_type": "code",
   "execution_count": 2,
   "metadata": {
    "collapsed": false
   },
   "outputs": [
    {
     "name": "stdout",
     "output_type": "stream",
     "text": [
      "Populating the interactive namespace from numpy and matplotlib\n"
     ]
    }
   ],
   "source": [
    "%pylab inline\n",
    "\n",
    "# Other imports\n",
    "from scipy.integrate import quad\n",
    "from matplotlib.ticker import AutoMinorLocator\n",
    "\n",
    "# style changes\n",
    "import matplotlib as mpl\n",
    "mpl.rcParams['figure.figsize'] = (10.0, 8.0)\n",
    "mpl.rc('lines', linewidth=1.8, color='k')\n",
    "mpl.rcParams['font.size'] = 14\n",
    "\n",
    "def ticks(labelsize, major_size, minor_size):\n",
    "    mpl.rc('xtick', labelsize=labelsize)\n",
    "    mpl.rc('xtick.major', size=major_size)\n",
    "    mpl.rc('xtick.minor', size=minor_size)\n",
    "    mpl.rc('ytick', labelsize=labelsize)\n",
    "    mpl.rc('ytick.major', size=major_size)\n",
    "    mpl.rc('ytick.minor', size=minor_size)\n",
    "    \n",
    "ticks(15, 10.0, 5)"
   ]
  },
  {
   "cell_type": "code",
   "execution_count": 27,
   "metadata": {
    "collapsed": false
   },
   "outputs": [],
   "source": [
    "class Cosmology():\n",
    "    \n",
    "    def __init__(self, omega_r, omega_m, omega_lambda):\n",
    "        self.omega_r = omega_r\n",
    "        self.omega_m = omega_m\n",
    "        self.omega_lambda = omega_lambda\n",
    "        self.omega_o = omega_r + omega_m + omega_lambda\n",
    "    \n",
    "         \n",
    "    def H_z(self, H, omega_r, omega_m, omega_l, omega_o, z):\n",
    "        return H * np.sqrt(omega_r * (1.0 + z) ** 4 + omega_m * (1.0 + z) ** 3 + omega_l + (1.0 - omega_o) * (1.0 + z) ** 2)\n",
    "    \n",
    "    def printModel(self):\n",
    "        print \"Omega_r = %.3f, Omega_m = %.3f, Omega_lambda = %.3f, Omega_o = %.3f\"%(self.omega_r, self.omega_m, self.omega_lambda, self.omega_o)\n",
    "    \n",
    "    def comovingFrom0toZ(self, zmax, resolution=1000.0):\n",
    "        H = 2.2683e-18 # hubble constant in s^-1\n",
    "        z_range = np.linspace(0, zmax, resolution)\n",
    "        model = lambda z: 299792458.0 / self.H_z(H, self.omega_r, self.omega_m, self.omega_lambda, self.omega_o, z)\n",
    "        results = np.asarray([quad(model, 0, i)[0] for i in z_range])\n",
    "        return [z_range, results * 3.24e-23] # return results in Mpc\n",
    "    \n",
    "    def timeFrom0toZ(self, zmax, resolution=1000.0):\n",
    "        H = 0.07154 # Hubble's constant in Gyr^-1\n",
    "        t_0 = 1 / H\n",
    "        z_range = np.linspace(0, zmax, resolution)\n",
    "        model_time = lambda z: 1.0 / ((1.0 + z) * self.H_z(H, self.omega_r, self.omega_m, self.omega_lambda, self.omega_o, z))\n",
    "        lookBack = np.asarray([quad(model_time, 0, i)[0] for i in z_range])\n",
    "        age = t_0 - np.asarray([quad(model_time, 0, i)[0] for i in z_range])\n",
    "        return [z_range, lookBack, age]\n",
    "    \n",
    "    def calcComovingForZ(self, zmin, zmax):\n",
    "        H = 2.2683e-18 # hubble constant in s^-1\n",
    "        model = lambda z: 299792458.0 / self.H_z(H, self.omega_r, self.omega_m, self.omega_lambda, self.omega_o, z)\n",
    "        results = quad(model, zmin, zmax)[0] \n",
    "        return results * 3.24e-23 # return results in Mpc\n",
    "    \n",
    "    def calcAgeForZ(self, z):\n",
    "        H = 0.07154 # Hubble's constant in Gyr^-1\n",
    "        t_0 = 1.0 / H\n",
    "        model_time = lambda z: 1.0 / ((1.0 + z) * self.H_z(H, self.omega_r, self.omega_m, self.omega_lambda, self.omega_o, z))\n",
    "        results = t_0 - quad(model_time, 0, z)[0] \n",
    "        return results\n",
    "    \n",
    "    def angularDist(self, zmin, zmax):\n",
    "        r = self.calcComovingForZ(zmin, zmax)\n",
    "        return (r / (1.0 + (zmax-zmin)))\n",
    "    \n"
   ]
  },
  {
   "cell_type": "markdown",
   "metadata": {
    "collapsed": true
   },
   "source": [
    "# Problem 1\n",
    "\n",
    "**Part a:**  We have three galaxies that line up where $z_1$ is the redshift from the Galaxy to galaxy 1 where as $z_2$ is from the Galaxy to galaxy 2.  That makes the difference of $z_2-z_1$ the redshift to the second galaxy as observed from galaxy 1.\n",
    "\n",
    "To start I define the redshifts $z_1$ and $z_2$ in terms of Doppler Shift: $$z_1 = \\frac{\\lambda_{0,o}-\\lambda_{1,e}}{\\lambda_{0,o}}$$ <br/> $$z_2 = \\frac{\\lambda_{0,o}-\\lambda_{2,e}}{\\lambda_{0,o}}$$\n",
    "\n",
    "Taking $z_2-z_1$ we get: $$z_2-z_1=  \\frac{\\lambda_{0,o}-\\lambda_{2,e}}{\\lambda_{0,o}} - \\frac{\\lambda_{0,o}-\\lambda_{1,e}}{\\lambda_{0,o}}$$\n",
    "Reducing to our final answer: $$\\boxed{z_2-z_1=\\frac{\\lambda_{1,e}-\\lambda_{2,e}}{\\lambda_{0,o}}}$$\n",
    "\n",
    "**Part b:** We know from class that $d_A = \\frac{S_k(r)}{1+z}$.  For a flat universe then the previous equation simplifies to the comoving distance over the redshift: $$\\boxed{d_A = \\frac{r}{1+z}}$$\n",
    "The following code below then calculates this comoving distance for the three cases specified with $\\Omega=1$, $z_1=0.5$, and $z_2=1.6$.\n",
    "\n",
    "I should preface that to get the angular distance from galaxy 1 to 2, $z$ in the above equation will be $z_2-z_1$.\n",
    "\n",
    "\n",
    "\n",
    "We come to find that $\\boxed{d_{A,\\ 0\\rightarrow 1}= 1047.7\\ Mpc\\ }$, $\\boxed{d_{A,\\ 1\\rightarrow 2}=800.7\\ Mpc\\ }$, and $\\boxed{d_{A,\\ 0\\rightarrow 2}=1251.1\\ Mpc}$\n",
    "\n",
    "**Part c:** Clearly there is a large discrepancy in that $d_{A,\\ 0\\rightarrow 1}+d_{A,\\ 1\\rightarrow 2}\\neq d_{A,\\ 0\\rightarrow 2}$.  I would attribute this to the fact that we can't simply add linearly the angular diameter distances to find a total distance.  Rather, angular diameter distance is dependent on the epoch of choice."
   ]
  },
  {
   "cell_type": "code",
   "execution_count": 26,
   "metadata": {
    "collapsed": false
   },
   "outputs": [
    {
     "name": "stdout",
     "output_type": "stream",
     "text": [
      "Angular diameter distance from milky way to galaxy 1: 1047.72695568\n",
      "Angular diameter distance from milky way to galaxy 2: 1251.14294667\n",
      "Anuglar diameter distance from galaxy 1 to galaxy 2: 800.657727526\n"
     ]
    }
   ],
   "source": [
    "model_a = Cosmology(0, 1, 0)# omega_m is 1\n",
    "\n",
    "print \"Angular diameter distance from milky way to galaxy 1:\", model_a.angularDist(0,0.5)\n",
    "print \"Angular diameter distance from milky way to galaxy 2:\", model_a.angularDist(0,1.6)\n",
    "print \"Anuglar diameter distance from galaxy 1 to galaxy 2:\", model_a.angularDist(0.5, 1.6)"
   ]
  },
  {
   "cell_type": "markdown",
   "metadata": {},
   "source": [
    "# Problem 2\n",
    "We start with the idea of a cylinder being created by a galaxy moving through the Coma cluster.  The volume of this cylinder is then $V=\\Sigma \\sigma t$, where $\\sigma t$ is the distance traveled by the galaxy.  The mean free path is defined as the distance traveled by galaxy devided by the number of galaxies $$\\lambda=\\frac{d}{N}= \\frac{\\sigma t}{N}$$\n",
    "Where N is the following: $$N = n\\Sigma \\sigma t$$\n",
    "Putting together the equations we get: $$\\lambda = \\frac{\\sigma t}{n\\Sigma\\sigma t}$$\n",
    "Giving: $$\\boxed{\\lambda = \\frac{1}{\\Sigma n}}$$.\n",
    "Plugging in all the values with $n$ being the number density of galaxies within the half-mass radius volume gives a mean free path of $\\lambda = 14.14\\ Mpc$.\n",
    "The mean free collision time is found with: $$t = \\frac{\\lambda}{\\sigma}$$.\n",
    "Using a conversion factor of $3.085\\times 10^{13}\\ km\\ /\\ pc$ I can easily convert to the age of when we get a collision.  The average time between collisions in the Coma cluster is then: $$\\boxed{t_{coma} = 17.29\\ Gyr\\ }$$\n",
    "This time is much larger than the Hubble time of $13.978\\ Gyr$.  Similarly the collision time of the Milky Way with the Andromeda galaxy is: $$\\boxed{t_{A\\rightarrow MW} = 5.7\\ Gyr\\ }$$\n",
    "This value is a fraction of what it takes to see a collision in the Coma Cluster.\n"
   ]
  },
  {
   "cell_type": "code",
   "execution_count": null,
   "metadata": {
    "collapsed": true
   },
   "outputs": [],
   "source": []
  }
 ],
 "metadata": {
  "kernelspec": {
   "display_name": "Python 2",
   "language": "python",
   "name": "python2"
  },
  "language_info": {
   "codemirror_mode": {
    "name": "ipython",
    "version": 2
   },
   "file_extension": ".py",
   "mimetype": "text/x-python",
   "name": "python",
   "nbconvert_exporter": "python",
   "pygments_lexer": "ipython2",
   "version": "2.7.8"
  }
 },
 "nbformat": 4,
 "nbformat_minor": 0
}
